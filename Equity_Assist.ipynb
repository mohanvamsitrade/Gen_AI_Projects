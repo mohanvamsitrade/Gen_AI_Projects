{
  "nbformat": 4,
  "nbformat_minor": 0,
  "metadata": {
    "colab": {
      "provenance": [],
      "authorship_tag": "ABX9TyNtNSiY6R1gtzK4GpuVtQUX",
      "include_colab_link": true
    },
    "kernelspec": {
      "name": "python3",
      "display_name": "Python 3"
    },
    "language_info": {
      "name": "python"
    }
  },
  "cells": [
    {
      "cell_type": "markdown",
      "metadata": {
        "id": "view-in-github",
        "colab_type": "text"
      },
      "source": [
        "<a href=\"https://colab.research.google.com/github/mohanvamsitrade/Gen_AI_Projects/blob/main/Equity_Assist.ipynb\" target=\"_parent\"><img src=\"https://colab.research.google.com/assets/colab-badge.svg\" alt=\"Open In Colab\"/></a>"
      ]
    },
    {
      "cell_type": "code",
      "execution_count": 1,
      "metadata": {
        "id": "qRBpjK0Ub9Tb"
      },
      "outputs": [],
      "source": [
        "from secret_key import openapi_key3\n",
        "import os\n",
        "\n",
        "os.environ['OPENAI_API_KEY'] = openapi_key3"
      ]
    },
    {
      "cell_type": "code",
      "source": [],
      "metadata": {
        "id": "elQJbPXD3ERI"
      },
      "execution_count": null,
      "outputs": []
    }
  ]
}